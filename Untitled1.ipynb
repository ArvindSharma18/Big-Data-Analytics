{
 "cells": [
  {
   "cell_type": "markdown",
   "metadata": {},
   "source": [
    " 1Q.  For a given utility matrix representing the ratings, on a 1–5 star scale, of eight items, a  through h, by three users A , B , and C . Compute the following from the data of this matrix.\n",
    " https://piazza.com/redirect/s3?bucket=uploads&prefix=attach%2Fjwn81pe1oo0ou%2Fjbbtu4a92e71rh%2Fjzxpdqly23x0%2Futility.png\n",
    "(a) Treating the utility matrix as boolean, compute the Jaccard distance between each pair of users.\n",
    "\n",
    "(b) Repeat Part (a), but use the cosine distance.\n",
    "\n",
    "(c) Treat ratings of 3, 4, and 5 as 1 and 1, 2, and blank as 0. Compute the Jaccard distance between each pair of users.\n",
    "\n",
    "(d) Repeat Part (c), but use the cosine distance.\n",
    "\n",
    "(e) Normalize the matrix by subtracting from each nonblank entry the average value for its user.\n",
    "\n",
    "(f) Using the normalized matrix from Part (e), compute the cosine distance between each pair of users."
   ]
  },
  {
   "cell_type": "code",
   "execution_count": 6,
   "metadata": {},
   "outputs": [
    {
     "name": "stdout",
     "output_type": "stream",
     "text": [
      "Q a: \n",
      "Inter and Unions of :\n",
      "A and B : 4 8\n",
      "A and C : 4 8\n",
      "B and C : 4 8\n",
      "Jaccard Distance between A and B is 0.5\n",
      "Jaccard Distance between A and C is 0.5\n",
      "Jaccard Distance between B and C is 0.5\n"
     ]
    }
   ],
   "source": [
    "A = (1,1,0,1,1,0,1,1)\n",
    "B = (0,1,1,1,1,1,1,0)\n",
    "C = (1,0,1,1,0,1,1,1)\n",
    "\n",
    "def findInter(x,y):\n",
    "    inter = 0\n",
    "    for i in range(len(x)):\n",
    "        if(x[i] == y[i] == 1):\n",
    "            inter = inter+1\n",
    "    return inter        \n",
    "def findUnion(x,y):\n",
    "    union = 0\n",
    "    for i in range(len(x)):\n",
    "        if(x[i] == 1 or y[i] == 1):\n",
    "            union=union+1\n",
    "    return union\n",
    "\n",
    "inter1 = findInter(A,B)\n",
    "union1 = findUnion(A,B)\n",
    "z = inter1/union1\n",
    "jacAB = 1-z\n",
    "\n",
    "inter2 = findInter(A,C)\n",
    "union2 = findUnion(A,C)\n",
    "z = inter2/union2\n",
    "jacAC = 1-z\n",
    "\n",
    "inter3 = findInter(B,C)\n",
    "union3 = findUnion(B,C)\n",
    "z = inter3/union3\n",
    "jacBC = 1-z\n",
    "\n",
    "print(\"Q a: \\nInter and Unions of :\")\n",
    "print(\"A and B : \"+ str(inter1) + \" \" + str(union1))\n",
    "print(\"A and C : \"+ str(inter2) + \" \" + str(union2))\n",
    "print(\"B and C : \"+ str(inter3) + \" \" + str(union3))\n",
    "\n",
    "print(\"Jaccard Distance between A and B is \"+str(jacAB))\n",
    "\n",
    "print(\"Jaccard Distance between A and C is \"+str(jacAC))\n",
    "\n",
    "print(\"Jaccard Distance between B and C is \"+str(jacBC))\n"
   ]
  },
  {
   "cell_type": "code",
   "execution_count": 8,
   "metadata": {},
   "outputs": [
    {
     "name": "stdout",
     "output_type": "stream",
     "text": [
      "Q b:\n",
      "The Cosine Distance between A and B is 0.6666666666666667\n",
      "The Cosine Distance between B and C is 0.6666666666666667\n",
      "The Cosine Distance between A and C is 0.6666666666666667\n"
     ]
    }
   ],
   "source": [
    "import math\n",
    "\n",
    "A = (1,1,0,1,1,0,1,1)\n",
    "B = (0,1,1,1,1,1,1,0)\n",
    "C = (1,0,1,1,0,1,1,1)\n",
    "\n",
    "def findDot(x,y):\n",
    "    dot = 0;\n",
    "    for i in range(len(x)):\n",
    "        dot+= x[i]*y[i]\n",
    "    return dot\n",
    "\n",
    "z1 = findDot(A,B)\n",
    "cosAB = z1/(math.sqrt(findDot(A,A))* math.sqrt(findDot(B,B)))\n",
    "\n",
    "z2 = findDot(A,C)\n",
    "cosAC = z2/(math.sqrt(findDot(A,A))* math.sqrt(findDot(C,C)))\n",
    "\n",
    "z3 = findDot(B,C)\n",
    "cosBC = z3/(math.sqrt(findDot(C,C))* math.sqrt(findDot(B,B)))\n",
    "\n",
    "print(\"Q b:\")\n",
    "print(\"The Cosine Distance between A and B is \"+str(cosAB))\n",
    "print(\"The Cosine Distance between B and C is \"+str(cosAC))\n",
    "print(\"The Cosine Distance between A and C is \"+str(cosBC))"
   ]
  },
  {
   "cell_type": "code",
   "execution_count": 10,
   "metadata": {},
   "outputs": [
    {
     "name": "stdout",
     "output_type": "stream",
     "text": [
      "Q c: \n",
      "Inter and Unions of :\n",
      "A and B : 2 5\n",
      "A and C : 2 6\n",
      "B and C : 1 6\n",
      "Jaccard Distance between A and B is 0.6\n",
      "Jaccard Distance between A and C is 0.6666666666666667\n",
      "Jaccard Distance between B and C is 0.8333333333333334\n"
     ]
    }
   ],
   "source": [
    "A = (1,1,0,1,0,0,1,0)\n",
    "B = (0,1,1,1,0,0,0,0)\n",
    "C = (0,0,0,1,0,1,1,1)\n",
    "\n",
    "inter1 = findInter(A,B)\n",
    "union1 = findUnion(A,B)\n",
    "z = inter1/union1\n",
    "jacAB = 1-z\n",
    "\n",
    "inter2 = findInter(A,C)\n",
    "union2 = findUnion(A,C)\n",
    "z = inter2/union2\n",
    "jacAC = 1-z\n",
    "\n",
    "inter3 = findInter(B,C)\n",
    "union3 = findUnion(B,C)\n",
    "z = inter3/union3\n",
    "jacBC = 1-z\n",
    "\n",
    "print(\"Q c: \\nInter and Unions of :\")\n",
    "print(\"A and B : \"+ str(inter1) + \" \" + str(union1))\n",
    "print(\"A and C : \"+ str(inter2) + \" \" + str(union2))\n",
    "print(\"B and C : \"+ str(inter3) + \" \" + str(union3))\n",
    "\n",
    "print(\"Jaccard Distance between A and B is \"+str(jacAB))\n",
    "\n",
    "print(\"Jaccard Distance between A and C is \"+str(jacAC))\n",
    "\n",
    "print(\"Jaccard Distance between B and C is \"+str(jacBC))"
   ]
  },
  {
   "cell_type": "code",
   "execution_count": 11,
   "metadata": {},
   "outputs": [
    {
     "name": "stdout",
     "output_type": "stream",
     "text": [
      "Q d:\n",
      "The Cosine Distance between A and B is 0.5773502691896258\n",
      "The Cosine Distance between B and C is 0.5\n",
      "The Cosine Distance between A and C is 0.2886751345948129\n"
     ]
    }
   ],
   "source": [
    "import math\n",
    "\n",
    "A = (1,1,0,1,0,0,1,0)\n",
    "B = (0,1,1,1,0,0,0,0)\n",
    "C = (0,0,0,1,0,1,1,1)\n",
    "\n",
    "z1 = findDot(A,B)\n",
    "cosAB = z1/(math.sqrt(findDot(A,A))* math.sqrt(findDot(B,B)))\n",
    "\n",
    "z2 = findDot(A,C)\n",
    "cosAC = z2/(math.sqrt(findDot(A,A))* math.sqrt(findDot(C,C)))\n",
    "\n",
    "z3 = findDot(B,C)\n",
    "cosBC = z3/(math.sqrt(findDot(C,C))* math.sqrt(findDot(B,B)))\n",
    "\n",
    "print(\"Q d:\")\n",
    "print(\"The Cosine Distance between A and B is \"+str(cosAB))\n",
    "print(\"The Cosine Distance between B and C is \"+str(cosAC))\n",
    "print(\"The Cosine Distance between A and C is \"+str(cosBC))"
   ]
  },
  {
   "cell_type": "code",
   "execution_count": 15,
   "metadata": {},
   "outputs": [
    {
     "name": "stdout",
     "output_type": "stream",
     "text": [
      "Q e:\n",
      "[[1.5, 2.5, 0, 2.5, -1.5, 0, 0.5, -0.5], [0, 1.25, 2.25, 1.25, -0.75, 0.25, -0.75, 0], [-0.25, 0, -1.25, 0.75, 0, 1.75, 2.75, 0.75]]\n"
     ]
    }
   ],
   "source": [
    "M = [[4,5,0,5,1,0,3,2],\n",
    "  [0,3,4,3,1,2,1,0],\n",
    "  [2,0,1,3,0,4,5,3]]\n",
    "\n",
    "def Avg(x):\n",
    "    avg = 0;\n",
    "    for i in range(len(x)):\n",
    "        avg+= x[i]\n",
    "    avg = avg/len(x)\n",
    "    return avg\n",
    "\n",
    "def modList(x):\n",
    "    l = list()\n",
    "    for i in x:\n",
    "        if(i is not 0):\n",
    "            l.append(i-Avg(x))\n",
    "        else:\n",
    "            l.append(0)\n",
    "    return l\n",
    "\n",
    "A = modList(M[0])\n",
    "B = modList(M[1])\n",
    "C = modList(M[2])\n",
    "\n",
    "NM = [A,B,C]\n",
    "print(\"Q e:\")\n",
    "print(NM)"
   ]
  },
  {
   "cell_type": "code",
   "execution_count": 16,
   "metadata": {},
   "outputs": [
    {
     "name": "stdout",
     "output_type": "stream",
     "text": [
      "Q d:\n",
      "The Cosine Distance between A and B is 0.5465040408511785\n",
      "The Cosine Distance between B and C is 0.16340829138365012\n",
      "The Cosine Distance between A and C is -0.31256152042413066\n"
     ]
    }
   ],
   "source": [
    "import math\n",
    "A = modList(M[0])\n",
    "B = modList(M[1])\n",
    "C = modList(M[2])\n",
    "\n",
    "z1 = findDot(A,B)\n",
    "cosAB = z1/(math.sqrt(findDot(A,A))* math.sqrt(findDot(B,B)))\n",
    "\n",
    "z2 = findDot(A,C)\n",
    "cosAC = z2/(math.sqrt(findDot(A,A))* math.sqrt(findDot(C,C)))\n",
    "\n",
    "z3 = findDot(B,C)\n",
    "cosBC = z3/(math.sqrt(findDot(C,C))* math.sqrt(findDot(B,B)))\n",
    "\n",
    "print(\"Q f:\")\n",
    "print(\"The Cosine Distance between A and B is \"+str(cosAB))\n",
    "print(\"The Cosine Distance between B and C is \"+str(cosAC))\n",
    "print(\"The Cosine Distance between A and C is \"+str(cosBC))"
   ]
  },
  {
   "cell_type": "markdown",
   "metadata": {},
   "source": [
    "2Q. Load the Movielens 100k dataset (ml-100k.zip) into Python using Pandas dataframes. Build a user profile on unscaled data for both users 200 and 15, and calculate the cosine similarity and distance between the user’s preferences and the item/movie 95. Which user would a recommender system suggest this movie to?\n",
    "dataset: https://grouplens.org/datasets/movielens/100k/"
   ]
  },
  {
   "cell_type": "code",
   "execution_count": 3,
   "metadata": {},
   "outputs": [
    {
     "name": "stdout",
     "output_type": "stream",
     "text": [
      "user 15 rating keys\n",
      "[2, 1, 3, 3, 3, 1, 1, 1, 2, 4, 3, 4, 1, 4, 2, 4, 2, 3, 3, 2, 5, 1, 2, 3, 4, 2, 4, 4, 1, 5, 4, 4, 1, 4, 1, 3, 2, 1, 1, 5, 2, 4, 1, 4, 1, 3, 5, 3, 2, 5, 1, 5, 1, 4, 5, 1, 2, 4, 5, 5, 1, 1, 4, 4, 3, 2, 4, 1, 4, 4, 1, 3, 4, 2, 1, 1, 5, 3, 5, 4, 3, 4, 3, 2, 1, 3, 4, 4, 4, 3, 4, 5, 3, 1, 4, 3, 3, 3, 2, 3, 3, 3, 2, 3]\n",
      "user 200 rating keys\n",
      "[5, 5, 5, 5, 5, 5, 5, 4, 5, 5, 3, 2, 4, 4, 4, 5, 4, 2, 5, 4, 2, 5, 5, 3, 4, 5, 4, 4, 4, 4, 5, 5, 5, 4, 5, 5, 4, 4, 4, 4, 4, 3, 3, 3, 5, 4, 5, 5, 5, 4, 3, 4, 4, 5, 4, 4, 4, 4, 4, 4, 3, 4, 4, 4, 4, 5, 4, 4, 3, 2, 4, 4, 4, 4, 5, 3, 5, 4, 2, 5, 5, 2, 5, 4, 3, 4, 3, 4, 3, 5, 3, 4, 3, 4, 4, 4, 3, 4, 5, 5, 5, 4, 4, 4, 4, 4, 5, 4, 4, 5, 5, 3, 3, 4, 3, 4, 4, 5, 3, 4, 3, 5, 5, 4, 4, 3, 5, 3, 5, 2, 4, 5, 5, 4, 5, 5, 3, 4, 4, 5, 2, 5, 4, 3, 4, 4, 4, 4, 5, 4, 3, 4, 4, 3, 5, 4, 5, 2, 5, 2, 4, 4, 5, 4, 5, 5, 3, 4, 4, 4, 5, 5, 5, 3, 4, 3, 5, 3, 3, 5, 3, 4, 4, 4, 3, 4, 4, 3, 3, 5, 3, 4, 5, 5, 5, 5, 4, 4, 5, 5, 5, 4, 4, 3, 5, 5, 5, 3, 4, 2, 3, 2, 4, 3, 4, 4]\n",
      "Ratings provided by user 15 are : [1.65, 0.87, 0.09, 0.87, 2.43, 1.04, 0.09, 4.52, 0.26, 0.17, 0.52, 0.09, 0.52, 1.39, 1.04, 1.57, 0.78, 0.09]\n",
      "Ratings provided by user 200 are : [1.89, 1.25, 0.39, 0.9, 2.93, 0.6, 0.26, 3.32, 0.26, 0.17, 0.69, 0.34, 0.3, 1.29, 1.29, 1.29, 0.6, 0.22]\n",
      "The Cosine Distance between User15 and Movie Number 95 : 0.5105030520693185\n",
      "The Cosine Distance between User200 and Movie Number 95 : 0.4865226310682454\n"
     ]
    }
   ],
   "source": [
    "import pandas as pd\n",
    "import math\n",
    "\n",
    "\n",
    "df = pd.read_csv(r'C:\\Users\\ARVIND SHARMA\\Desktop\\Big DataAssign\\u.data.csv')\n",
    "df1 = pd.read_csv(r'C:\\Users\\ARVIND SHARMA\\Desktop\\Big DataAssign\\u.item.csv')\n",
    "\n",
    "\n",
    "movie = pd.DataFrame(df1.loc[94,::])\n",
    "movie.head(n=10)\n",
    "df1 = df1[1:]\n",
    "\n",
    "\n",
    "genre = df1.columns\n",
    "genre = genre[5:]\n",
    "genre_val = df1.values\n",
    "\n",
    "\n",
    "df15 = pd.DataFrame(df.loc[df['UserID']==15])\n",
    "user15rating = df15.Rating\n",
    "user15item = df15.ItemID\n",
    "df15.head(n=10)\n",
    "\n",
    "\n",
    "user15ratingkeys = list(user15rating)\n",
    "print(\"user 15 rating keys\")\n",
    "print(user15ratingkeys)\n",
    "\n",
    "\n",
    "df200 = pd.DataFrame(df.loc[df['UserID']==200])\n",
    "user200rating = df200.Rating\n",
    "user200item = df200.ItemID\n",
    "df200.head(n=10)\n",
    "\n",
    "\n",
    "user200ratingkeys = list(user200rating)\n",
    "print(\"user 200 rating keys\")\n",
    "print(user200ratingkeys)\n",
    "\n",
    "\n",
    "def Avg(x):\n",
    "    avg = 0;\n",
    "    for i in range(len(x)):\n",
    "        avg+= x[i]\n",
    "    avg = avg/len(x)\n",
    "    return avg\n",
    "\n",
    "def findDot(x,y):\n",
    "    dot = 0;\n",
    "    for i in range(len(x)):\n",
    "        dot+= x[i]*y[i]\n",
    "    return dot\n",
    "\n",
    "\n",
    "def GetRatings(x,user):\n",
    "    l=[0]*18\n",
    "    for i in x:\n",
    "        pos=0\n",
    "        j=genre_val[i]\n",
    "        j=j[5:]\n",
    "        if user==1:\n",
    "            index=0\n",
    "            for i in j:\n",
    "                i*=user200ratingkeys[index]\n",
    "                index+=1\n",
    "        else:\n",
    "            index=0\n",
    "            for i in j:\n",
    "                i*=user15ratingkeys[index]\n",
    "                index+=1\n",
    "                \n",
    "        for index1 in j:\n",
    "            l[pos]+=index1\n",
    "            pos+=1\n",
    "    avg = Avg(l)\n",
    "\n",
    "    for i in range(18):\n",
    "        l[i]/=avg\n",
    "        l[i]=round(l[i],2)\n",
    "    \"print(l)\"\n",
    "    return l\n",
    "\n",
    "\n",
    "user200sum = GetRatings(user200item,1)\n",
    "user15sum = GetRatings(user15item,2)\n",
    "\n",
    "\n",
    "print(\"Ratings provided by user 15 are : \"+str(user15sum))\n",
    "print(\"Ratings provided by user 200 are : \"+str(user200sum))\n",
    "\n",
    "\n",
    "final_movie = genre_val[95]\n",
    "final_movie = final_movie[5:]\n",
    "\n",
    "\n",
    "x = findDot(user15sum,final_movie)\n",
    "y = math.sqrt(findDot(user15sum,user15sum))* math.sqrt(findDot(final_movie,final_movie))\n",
    "print(\"The Cosine Distance between User15 and Movie Number 95 : \"+str(x/y))\n",
    "\n",
    "x = findDot(user200sum,final_movie)\n",
    "y = math.sqrt(findDot(user200sum,user200sum))* math.sqrt(findDot(final_movie,final_movie))\n",
    "print(\"The Cosine Distance between User200 and Movie Number 95 : \"+str(x/y))\n",
    "\n",
    "    "
   ]
  },
  {
   "cell_type": "markdown",
   "metadata": {},
   "source": [
    "Based on the Cosine Distance the movie is recommended to User15"
   ]
  },
  {
   "cell_type": "code",
   "execution_count": 35,
   "metadata": {},
   "outputs": [],
   "source": [
    "import pandas as pd\n",
    "import seaborn as sns\n",
    "import math\n",
    "\n",
    "df = pd.read_csv(r'C:\\Users\\ARVIND SHARMA\\Desktop\\Big DataAssign\\u.data.csv')\n",
    "df1 = pd.read_csv(r'C:\\Users\\ARVIND SHARMA\\Desktop\\Big DataAssign\\u.item.csv')\n",
    "df2 = pd.read_csv(r'C:\\Users\\ARVIND SHARMA\\Desktop\\Big DataAssign\\u.user.csv')"
   ]
  },
  {
   "cell_type": "code",
   "execution_count": 36,
   "metadata": {},
   "outputs": [],
   "source": [
    "speed = (df1.loc[df1['MovieTitle']=='Speed (1994)'])"
   ]
  },
  {
   "cell_type": "code",
   "execution_count": 37,
   "metadata": {},
   "outputs": [],
   "source": [
    "speeduser = pd.DataFrame(df.loc[df['ItemID']==568])"
   ]
  },
  {
   "cell_type": "code",
   "execution_count": 38,
   "metadata": {},
   "outputs": [],
   "source": [
    "speed_user = df2[df2['UserID'].isin(speeduser['UserID'].tolist())]"
   ]
  },
  {
   "cell_type": "code",
   "execution_count": 39,
   "metadata": {},
   "outputs": [
    {
     "name": "stderr",
     "output_type": "stream",
     "text": [
      "C:\\Anaconda\\lib\\site-packages\\scipy\\stats\\stats.py:1713: FutureWarning: Using a non-tuple sequence for multidimensional indexing is deprecated; use `arr[tuple(seq)]` instead of `arr[seq]`. In the future this will be interpreted as an array index, `arr[np.array(seq)]`, which will result either in an error or a different result.\n",
      "  return np.add.reduce(sorted[indexer] * weights, axis=axis) / sumval\n"
     ]
    },
    {
     "data": {
      "text/plain": [
       "<matplotlib.axes._subplots.AxesSubplot at 0x26580409860>"
      ]
     },
     "execution_count": 39,
     "metadata": {},
     "output_type": "execute_result"
    },
    {
     "data": {
      "image/png": "[encoded data removed]",
      "text/plain": [
       "<Figure size 432x288 with 1 Axes>"
      ]
     },
     "metadata": {
      "needs_background": "light"
     },
     "output_type": "display_data"
    }
   ],
   "source": [
    "sns.distplot(speed_user['Age'])"
   ]
  },
  {
   "cell_type": "code",
   "execution_count": 40,
   "metadata": {},
   "outputs": [],
   "source": [
    "speed2030=speed_user[(speed_user.Age >= 20) & (speed_user.Age <= 30)]"
   ]
  },
  {
   "cell_type": "code",
   "execution_count": 41,
   "metadata": {},
   "outputs": [],
   "source": [
    "mv= df[df['UserID'].isin(speed2030['UserID'])]"
   ]
  },
  {
   "cell_type": "code",
   "execution_count": 42,
   "metadata": {},
   "outputs": [],
   "source": [
    "mv_id=df1[df1['MovieID'].isin(mv['ItemID'])]\n",
    "mv_id=mv_id[mv_id['MovieTitle']!='Speed (1994)']\n",
    "mv_id = mv_id.reset_index(drop=True)"
   ]
  },
  {
   "cell_type": "code",
   "execution_count": 43,
   "metadata": {},
   "outputs": [],
   "source": [
    "speedrating=df1.loc[567][6:]"
   ]
  },
  {
   "cell_type": "code",
   "execution_count": 45,
   "metadata": {},
   "outputs": [
    {
     "name": "stderr",
     "output_type": "stream",
     "text": [
      "C:\\Anaconda\\lib\\site-packages\\ipykernel_launcher.py:10: RuntimeWarning: invalid value encountered in true_divide\n",
      "  # Remove the CWD from sys.path while we load stuff.\n"
     ]
    }
   ],
   "source": [
    "def findDot(x,y):\n",
    "    dot = 0;\n",
    "    for i in range(len(x)):\n",
    "        dot+= x[i]*y[i]\n",
    "    return dot\n",
    "\n",
    "x=[]\n",
    "for i in range(mv_id.shape[0]):\n",
    "    z1 = findDot(speedrating,mv_id.loc[i][6:])\n",
    "    cos = z1/(math.sqrt(findDot(speedrating,speedrating))* math.sqrt(findDot(mv_id.loc[i][6:],mv_id.loc[i][6:])))\n",
    "    x.append(cos)"
   ]
  },
  {
   "cell_type": "code",
   "execution_count": 47,
   "metadata": {},
   "outputs": [
    {
     "data": {
      "text/plain": [
       "MovieID                                                        33\n",
       "MovieTitle                                       Desperado (1995)\n",
       "Release Date                                            01-Jan-95\n",
       "IMDb URL        http://us.imdb.com/M/title-exact?Desperado%20(...\n",
       "Unknown                                                         0\n",
       "Action                                                          1\n",
       "Adventure                                                       0\n",
       "Animation                                                       0\n",
       "Children's                                                      0\n",
       "Comedy                                                          0\n",
       "Crime                                                           0\n",
       "Documentary                                                     0\n",
       "Drama                                                           0\n",
       "Fantasy                                                         0\n",
       "Film-Noir                                                       0\n",
       "Horror                                                          0\n",
       "Musical                                                         0\n",
       "Mystery                                                         0\n",
       "Romance                                                         1\n",
       "Sci-Fi                                                          0\n",
       "Thriller                                                        1\n",
       "War                                                             0\n",
       "Western                                                         0\n",
       "Name: 31, dtype: object"
      ]
     },
     "execution_count": 47,
     "metadata": {},
     "output_type": "execute_result"
    }
   ],
   "source": [
    "mv_id.loc[x.index(max(x))]"
   ]
  },
  {
   "cell_type": "code",
   "execution_count": 52,
   "metadata": {},
   "outputs": [
    {
     "data": {
      "text/plain": [
       "MovieID                                                       380\n",
       "MovieTitle                          Star Trek: Generations (1994)\n",
       "Release Date                                            01-Jan-94\n",
       "IMDb URL        http://us.imdb.com/M/title-exact?Star%20Trek:%...\n",
       "Unknown                                                         0\n",
       "Action                                                          1\n",
       "Adventure                                                       1\n",
       "Animation                                                       0\n",
       "Children's                                                      0\n",
       "Comedy                                                          0\n",
       "Crime                                                           0\n",
       "Documentary                                                     0\n",
       "Drama                                                           0\n",
       "Fantasy                                                         0\n",
       "Film-Noir                                                       0\n",
       "Horror                                                          0\n",
       "Musical                                                         0\n",
       "Mystery                                                         0\n",
       "Romance                                                         0\n",
       "Sci-Fi                                                          1\n",
       "Thriller                                                        0\n",
       "War                                                             0\n",
       "Western                                                         0\n",
       "Name: 373, dtype: object"
      ]
     },
     "execution_count": 52,
     "metadata": {},
     "output_type": "execute_result"
    }
   ],
   "source": [
    "x.sort()\n",
    "mv_id.loc[x.index(x[-2])]"
   ]
  },
  {
   "cell_type": "code",
   "execution_count": 53,
   "metadata": {},
   "outputs": [
    {
     "data": {
      "text/plain": [
       "MovieID                                                       921\n",
       "MovieTitle                           Farewell My Concubine (1993)\n",
       "Release Date                                            01-Jan-93\n",
       "IMDb URL        http://us.imdb.com/M/title-exact?Ba%20Wang%20B...\n",
       "Unknown                                                         0\n",
       "Action                                                          0\n",
       "Adventure                                                       0\n",
       "Animation                                                       0\n",
       "Children's                                                      0\n",
       "Comedy                                                          0\n",
       "Crime                                                           0\n",
       "Documentary                                                     0\n",
       "Drama                                                           1\n",
       "Fantasy                                                         0\n",
       "Film-Noir                                                       0\n",
       "Horror                                                          0\n",
       "Musical                                                         0\n",
       "Mystery                                                         0\n",
       "Romance                                                         1\n",
       "Sci-Fi                                                          0\n",
       "Thriller                                                        0\n",
       "War                                                             0\n",
       "Western                                                         0\n",
       "Name: 885, dtype: object"
      ]
     },
     "execution_count": 53,
     "metadata": {},
     "output_type": "execute_result"
    }
   ],
   "source": [
    "mv_id.loc[x.index(x[-3])]"
   ]
  },
  {
   "cell_type": "markdown",
   "metadata": {},
   "source": [
    "The 3 Movies to Recommend are :\n",
    "1)Desperado (1995)\n",
    "2)Star Trek: Generations (1994)\n",
    "3)Farewell My Concubine (1993)"
   ]
  }
 ],
 "metadata": {
  "kernelspec": {
   "display_name": "Python 3",
   "language": "python",
   "name": "python3"
  },
  "language_info": {
   "codemirror_mode": {
    "name": "ipython",
    "version": 3
   },
   "file_extension": ".py",
   "mimetype": "text/x-python",
   "name": "python",
   "nbconvert_exporter": "python",
   "pygments_lexer": "ipython3",
   "version": "3.7.0"
  }
 },
 "nbformat": 4,
 "nbformat_minor": 2
}

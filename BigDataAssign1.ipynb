{
 "cells": [
  {
   "cell_type": "code",
   "execution_count": 18,
   "metadata": {},
   "outputs": [],
   "source": [
    "import pandas as pd\n",
    "import requests\n",
    "from bs4 import BeautifulSoup\n",
    "import re"
   ]
  },
  {
   "cell_type": "code",
   "execution_count": 8,
   "metadata": {},
   "outputs": [],
   "source": [
    "url = requests.get('https://www.sfu.ca/computing/people/faculty.html')"
   ]
  },
  {
   "cell_type": "code",
   "execution_count": 9,
   "metadata": {},
   "outputs": [],
   "source": [
    "source = BeautifulSoup(url.text, 'html.parser')"
   ]
  },
  {
   "cell_type": "code",
   "execution_count": 10,
   "metadata": {},
   "outputs": [],
   "source": [
    "posts = source.find_all('div', attrs={'class', 'textimage section'})"
   ]
  },
  {
   "cell_type": "code",
   "execution_count": 48,
   "metadata": {},
   "outputs": [],
   "source": [
    "name=[]\n",
    "role=[]\n",
    "area=[]\n",
    "temp=[]\n",
    "for i in posts:\n",
    "    name.extend([i.h4.text.split(',')[0]])\n",
    "    role.extend([i.h4.text.split(',')[1]])\n",
    "    temp= str(i.p)\n",
    "    temp= re.sub('<.*?>', '', temp).lstrip('Area:').rstrip('\\n')\n",
    "    area.append(temp)\n",
    "df =pd.DataFrame({'Name':name,\n",
    "                  'Role':role,\n",
    "                'Area of Interest':area}\n",
    "               )"
   ]
  },
  {
   "cell_type": "code",
   "execution_count": 49,
   "metadata": {},
   "outputs": [
    {
     "data": {
      "text/html": [
       "<div>\n",
       "<style scoped>\n",
       "    .dataframe tbody tr th:only-of-type {\n",
       "        vertical-align: middle;\n",
       "    }\n",
       "\n",
       "    .dataframe tbody tr th {\n",
       "        vertical-align: top;\n",
       "    }\n",
       "\n",
       "    .dataframe thead th {\n",
       "        text-align: right;\n",
       "    }\n",
       "</style>\n",
       "<table border=\"1\" class=\"dataframe\">\n",
       "  <thead>\n",
       "    <tr style=\"text-align: right;\">\n",
       "      <th></th>\n",
       "      <th>Name</th>\n",
       "      <th>Role</th>\n",
       "      <th>Area of Interest</th>\n",
       "    </tr>\n",
       "  </thead>\n",
       "  <tbody>\n",
       "    <tr>\n",
       "      <th>0</th>\n",
       "      <td>Yagiz Aksoy</td>\n",
       "      <td>Assistant Professor</td>\n",
       "      <td>Computational photography, computer graphics,...</td>\n",
       "    </tr>\n",
       "    <tr>\n",
       "      <th>1</th>\n",
       "      <td>Brad Bart</td>\n",
       "      <td>SENIOR LECTURER \\nAssociate Director</td>\n",
       "      <td>Instruction</td>\n",
       "    </tr>\n",
       "    <tr>\n",
       "      <th>2</th>\n",
       "      <td>Angel Chang</td>\n",
       "      <td>Assistant Professor</td>\n",
       "      <td>Natural Language Processing, Artificial Intel...</td>\n",
       "    </tr>\n",
       "    <tr>\n",
       "      <th>3</th>\n",
       "      <td>SHEELAGH CARPENDALE</td>\n",
       "      <td>PROFESSOR\\n</td>\n",
       "      <td>Information Visualization</td>\n",
       "    </tr>\n",
       "    <tr>\n",
       "      <th>4</th>\n",
       "      <td>LEONID CHINDELEVITCH</td>\n",
       "      <td>ASSISTANT PROFESSOR\\n</td>\n",
       "      <td>Computational Biology</td>\n",
       "    </tr>\n",
       "  </tbody>\n",
       "</table>\n",
       "</div>"
      ],
      "text/plain": [
       "                   Name                                   Role  \\\n",
       "0           Yagiz Aksoy                    Assistant Professor   \n",
       "1             Brad Bart   SENIOR LECTURER \\nAssociate Director   \n",
       "2           Angel Chang                   Assistant Professor    \n",
       "3   SHEELAGH CARPENDALE                            PROFESSOR\\n   \n",
       "4  LEONID CHINDELEVITCH                  ASSISTANT PROFESSOR\\n   \n",
       "\n",
       "                                    Area of Interest  \n",
       "0   Computational photography, computer graphics,...  \n",
       "1                                        Instruction  \n",
       "2   Natural Language Processing, Artificial Intel...  \n",
       "3                          Information Visualization  \n",
       "4                              Computational Biology  "
      ]
     },
     "execution_count": 49,
     "metadata": {},
     "output_type": "execute_result"
    }
   ],
   "source": [
    "df.head()"
   ]
  }
 ],
 "metadata": {
  "kernelspec": {
   "display_name": "Python 3",
   "language": "python",
   "name": "python3"
  },
  "language_info": {
   "codemirror_mode": {
    "name": "ipython",
    "version": 3
   },
   "file_extension": ".py",
   "mimetype": "text/x-python",
   "name": "python",
   "nbconvert_exporter": "python",
   "pygments_lexer": "ipython3",
   "version": "3.7.0"
  }
 },
 "nbformat": 4,
 "nbformat_minor": 2
}
